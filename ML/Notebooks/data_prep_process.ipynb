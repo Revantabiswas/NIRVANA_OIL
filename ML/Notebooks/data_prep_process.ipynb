{
 "cells": [
  {
   "cell_type": "code",
   "execution_count": 3,
   "metadata": {},
   "outputs": [],
   "source": [
    "import os\n",
    "import random\n",
    "import shutil"
   ]
  },
  {
   "cell_type": "markdown",
   "metadata": {},
   "source": [
    "# Define paths"
   ]
  },
  {
   "cell_type": "code",
   "execution_count": 6,
   "metadata": {},
   "outputs": [],
   "source": [
    "oil_path = 'SIRO_dataset/oil/'\n",
    "non_oil_path = 'SIRO_dataset/non_oil/'\n",
    "output_path = 'Outputs'"
   ]
  },
  {
   "cell_type": "markdown",
   "metadata": {},
   "source": [
    "# Create output directories\n"
   ]
  },
  {
   "cell_type": "code",
   "execution_count": 7,
   "metadata": {},
   "outputs": [],
   "source": [
    "train_path = os.path.join(output_path, 'train')\n",
    "val_path = os.path.join(output_path, 'val')\n",
    "os.makedirs(train_path, exist_ok=True)\n",
    "os.makedirs(val_path, exist_ok=True)"
   ]
  },
  {
   "cell_type": "code",
   "execution_count": 8,
   "metadata": {},
   "outputs": [],
   "source": [
    "# Split ratio\n",
    "split_ratio = 0.8  # 80% training, 20% validation"
   ]
  },
  {
   "cell_type": "code",
   "execution_count": 9,
   "metadata": {},
   "outputs": [],
   "source": [
    "def prepare_dataset(source_path, target_path, label, split_ratio):\n",
    "    files = os.listdir(source_path)\n",
    "    random.shuffle(files)\n",
    "    split_index = int(len(files) * split_ratio)\n",
    "    \n",
    "    train_files = files[:split_index]\n",
    "    val_files = files[split_index:]\n",
    "    \n",
    "    for file in train_files:\n",
    "        shutil.copy(os.path.join(source_path, file), os.path.join(target_path, 'train', file))\n",
    "        label_file = file.replace('.png', '.txt')\n",
    "        with open(os.path.join(target_path, 'train', label_file), 'w') as f:\n",
    "            f.write(f\"{label} 0.5 0.5 1.0 1.0\\n\")\n",
    "\n",
    "    for file in val_files:\n",
    "        shutil.copy(os.path.join(source_path, file), os.path.join(target_path, 'val', file))\n",
    "        label_file = file.replace('.png', '.txt')\n",
    "        with open(os.path.join(target_path, 'val', label_file), 'w') as f:\n",
    "            f.write(f\"{label} 0.5 0.5 1.0 1.0\\n\")"
   ]
  },
  {
   "cell_type": "code",
   "execution_count": 10,
   "metadata": {},
   "outputs": [],
   "source": [
    "prepare_dataset(oil_path, output_path, label=0, split_ratio=split_ratio)\n",
    "prepare_dataset(non_oil_path, output_path, label=1, split_ratio=split_ratio)"
   ]
  },
  {
   "cell_type": "code",
   "execution_count": null,
   "metadata": {},
   "outputs": [],
   "source": []
  }
 ],
 "metadata": {
  "kernelspec": {
   "display_name": "Python 3",
   "language": "python",
   "name": "python3"
  },
  "language_info": {
   "codemirror_mode": {
    "name": "ipython",
    "version": 3
   },
   "file_extension": ".py",
   "mimetype": "text/x-python",
   "name": "python",
   "nbconvert_exporter": "python",
   "pygments_lexer": "ipython3",
   "version": "3.12.4"
  }
 },
 "nbformat": 4,
 "nbformat_minor": 2
}
